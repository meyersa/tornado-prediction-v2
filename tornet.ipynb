{
 "cells": [
  {
   "cell_type": "code",
   "execution_count": 2,
   "metadata": {},
   "outputs": [
    {
     "name": "stdout",
     "output_type": "stream",
     "text": [
      "Collecting git+https://github.com/mit-ll/tornet.git\n",
      "  Cloning https://github.com/mit-ll/tornet.git to /private/var/folders/vl/k7mzpjpx2k12dqq46qrmn6740000gn/T/pip-req-build-grxsiroe\n",
      "  Running command git clone --filter=blob:none --quiet https://github.com/mit-ll/tornet.git /private/var/folders/vl/k7mzpjpx2k12dqq46qrmn6740000gn/T/pip-req-build-grxsiroe\n",
      "  Resolved https://github.com/mit-ll/tornet.git to commit 959eead659a2371e4bf7d7544165bf83c856b572\n",
      "  Preparing metadata (setup.py) ... \u001b[?25ldone\n",
      "\u001b[?25hRequirement already satisfied: xarray in ./.venv/lib/python3.9/site-packages (2024.7.0)\n",
      "Requirement already satisfied: tornado_helper in ./.venv/lib/python3.9/site-packages (2.0.1)\n",
      "Requirement already satisfied: huggingface_hub in ./.venv/lib/python3.9/site-packages (0.30.1)\n",
      "Requirement already satisfied: tensorflow in ./.venv/lib/python3.9/site-packages (2.19.0)\n",
      "Requirement already satisfied: netcdf4 in ./.venv/lib/python3.9/site-packages (1.7.2)\n",
      "Requirement already satisfied: numpy>=1.23 in ./.venv/lib/python3.9/site-packages (from xarray) (2.0.2)\n",
      "Requirement already satisfied: packaging>=23.1 in ./.venv/lib/python3.9/site-packages (from xarray) (24.2)\n",
      "Requirement already satisfied: pandas>=2.0 in ./.venv/lib/python3.9/site-packages (from xarray) (2.2.3)\n",
      "Requirement already satisfied: requests in ./.venv/lib/python3.9/site-packages (from tornado_helper) (2.32.3)\n",
      "Requirement already satisfied: b2sdk in ./.venv/lib/python3.9/site-packages (from tornado_helper) (2.8.0)\n",
      "Requirement already satisfied: python-dotenv in ./.venv/lib/python3.9/site-packages (from tornado_helper) (1.1.0)\n",
      "Requirement already satisfied: aria2p in ./.venv/lib/python3.9/site-packages (from tornado_helper) (0.12.1)\n",
      "Requirement already satisfied: tqdm in ./.venv/lib/python3.9/site-packages (from tornado_helper) (4.67.1)\n",
      "Requirement already satisfied: boto3 in ./.venv/lib/python3.9/site-packages (from tornado_helper) (1.37.28)\n",
      "Requirement already satisfied: filelock in ./.venv/lib/python3.9/site-packages (from huggingface_hub) (3.18.0)\n",
      "Requirement already satisfied: fsspec>=2023.5.0 in ./.venv/lib/python3.9/site-packages (from huggingface_hub) (2025.3.2)\n",
      "Requirement already satisfied: pyyaml>=5.1 in ./.venv/lib/python3.9/site-packages (from huggingface_hub) (6.0.2)\n",
      "Requirement already satisfied: typing-extensions>=3.7.4.3 in ./.venv/lib/python3.9/site-packages (from huggingface_hub) (4.13.1)\n",
      "Requirement already satisfied: absl-py>=1.0.0 in ./.venv/lib/python3.9/site-packages (from tensorflow) (2.2.2)\n",
      "Requirement already satisfied: astunparse>=1.6.0 in ./.venv/lib/python3.9/site-packages (from tensorflow) (1.6.3)\n",
      "Requirement already satisfied: flatbuffers>=24.3.25 in ./.venv/lib/python3.9/site-packages (from tensorflow) (25.2.10)\n",
      "Requirement already satisfied: gast!=0.5.0,!=0.5.1,!=0.5.2,>=0.2.1 in ./.venv/lib/python3.9/site-packages (from tensorflow) (0.6.0)\n",
      "Requirement already satisfied: google-pasta>=0.1.1 in ./.venv/lib/python3.9/site-packages (from tensorflow) (0.2.0)\n",
      "Requirement already satisfied: libclang>=13.0.0 in ./.venv/lib/python3.9/site-packages (from tensorflow) (18.1.1)\n",
      "Requirement already satisfied: opt-einsum>=2.3.2 in ./.venv/lib/python3.9/site-packages (from tensorflow) (3.4.0)\n",
      "Requirement already satisfied: protobuf!=4.21.0,!=4.21.1,!=4.21.2,!=4.21.3,!=4.21.4,!=4.21.5,<6.0.0dev,>=3.20.3 in ./.venv/lib/python3.9/site-packages (from tensorflow) (5.29.4)\n",
      "Requirement already satisfied: setuptools in ./.venv/lib/python3.9/site-packages (from tensorflow) (58.0.4)\n",
      "Requirement already satisfied: six>=1.12.0 in ./.venv/lib/python3.9/site-packages (from tensorflow) (1.17.0)\n",
      "Requirement already satisfied: termcolor>=1.1.0 in ./.venv/lib/python3.9/site-packages (from tensorflow) (3.0.1)\n",
      "Requirement already satisfied: wrapt>=1.11.0 in ./.venv/lib/python3.9/site-packages (from tensorflow) (1.17.2)\n",
      "Requirement already satisfied: grpcio<2.0,>=1.24.3 in ./.venv/lib/python3.9/site-packages (from tensorflow) (1.71.0)\n",
      "Requirement already satisfied: tensorboard~=2.19.0 in ./.venv/lib/python3.9/site-packages (from tensorflow) (2.19.0)\n",
      "Requirement already satisfied: keras>=3.5.0 in ./.venv/lib/python3.9/site-packages (from tensorflow) (3.9.2)\n",
      "Requirement already satisfied: h5py>=3.11.0 in ./.venv/lib/python3.9/site-packages (from tensorflow) (3.13.0)\n",
      "Requirement already satisfied: ml-dtypes<1.0.0,>=0.5.1 in ./.venv/lib/python3.9/site-packages (from tensorflow) (0.5.1)\n",
      "Requirement already satisfied: tensorflow-io-gcs-filesystem>=0.23.1 in ./.venv/lib/python3.9/site-packages (from tensorflow) (0.37.1)\n",
      "Requirement already satisfied: cftime in ./.venv/lib/python3.9/site-packages (from netcdf4) (1.6.4.post1)\n",
      "Requirement already satisfied: certifi in ./.venv/lib/python3.9/site-packages (from netcdf4) (2025.1.31)\n",
      "Requirement already satisfied: wheel<1.0,>=0.23.0 in ./.venv/lib/python3.9/site-packages (from astunparse>=1.6.0->tensorflow) (0.45.1)\n",
      "Requirement already satisfied: rich in ./.venv/lib/python3.9/site-packages (from keras>=3.5.0->tensorflow) (14.0.0)\n",
      "Requirement already satisfied: namex in ./.venv/lib/python3.9/site-packages (from keras>=3.5.0->tensorflow) (0.0.8)\n",
      "Requirement already satisfied: optree in ./.venv/lib/python3.9/site-packages (from keras>=3.5.0->tensorflow) (0.15.0)\n",
      "Requirement already satisfied: python-dateutil>=2.8.2 in ./.venv/lib/python3.9/site-packages (from pandas>=2.0->xarray) (2.9.0.post0)\n",
      "Requirement already satisfied: pytz>=2020.1 in ./.venv/lib/python3.9/site-packages (from pandas>=2.0->xarray) (2025.2)\n",
      "Requirement already satisfied: tzdata>=2022.7 in ./.venv/lib/python3.9/site-packages (from pandas>=2.0->xarray) (2025.2)\n",
      "Requirement already satisfied: charset-normalizer<4,>=2 in ./.venv/lib/python3.9/site-packages (from requests->tornado_helper) (3.4.1)\n",
      "Requirement already satisfied: idna<4,>=2.5 in ./.venv/lib/python3.9/site-packages (from requests->tornado_helper) (3.10)\n",
      "Requirement already satisfied: urllib3<3,>=1.21.1 in ./.venv/lib/python3.9/site-packages (from requests->tornado_helper) (1.26.20)\n",
      "Requirement already satisfied: markdown>=2.6.8 in ./.venv/lib/python3.9/site-packages (from tensorboard~=2.19.0->tensorflow) (3.7)\n",
      "Requirement already satisfied: tensorboard-data-server<0.8.0,>=0.7.0 in ./.venv/lib/python3.9/site-packages (from tensorboard~=2.19.0->tensorflow) (0.7.2)\n",
      "Requirement already satisfied: werkzeug>=1.0.1 in ./.venv/lib/python3.9/site-packages (from tensorboard~=2.19.0->tensorflow) (3.1.3)\n",
      "Requirement already satisfied: loguru>=0.5 in ./.venv/lib/python3.9/site-packages (from aria2p->tornado_helper) (0.7.3)\n",
      "Requirement already satisfied: platformdirs>=4.2 in ./.venv/lib/python3.9/site-packages (from aria2p->tornado_helper) (4.3.7)\n",
      "Requirement already satisfied: tomli>=2.0 in ./.venv/lib/python3.9/site-packages (from aria2p->tornado_helper) (2.2.1)\n",
      "Requirement already satisfied: websocket-client>=0.58 in ./.venv/lib/python3.9/site-packages (from aria2p->tornado_helper) (1.8.0)\n",
      "Requirement already satisfied: annotated_types>=0.5.0 in ./.venv/lib/python3.9/site-packages (from b2sdk->tornado_helper) (0.7.0)\n",
      "Requirement already satisfied: logfury<2.0.0,>=1.0.1 in ./.venv/lib/python3.9/site-packages (from b2sdk->tornado_helper) (1.0.1)\n",
      "Requirement already satisfied: botocore<1.38.0,>=1.37.28 in ./.venv/lib/python3.9/site-packages (from boto3->tornado_helper) (1.37.28)\n",
      "Requirement already satisfied: jmespath<2.0.0,>=0.7.1 in ./.venv/lib/python3.9/site-packages (from boto3->tornado_helper) (1.0.1)\n",
      "Requirement already satisfied: s3transfer<0.12.0,>=0.11.0 in ./.venv/lib/python3.9/site-packages (from boto3->tornado_helper) (0.11.4)\n",
      "Requirement already satisfied: importlib-metadata>=4.4 in ./.venv/lib/python3.9/site-packages (from markdown>=2.6.8->tensorboard~=2.19.0->tensorflow) (8.6.1)\n",
      "Requirement already satisfied: MarkupSafe>=2.1.1 in ./.venv/lib/python3.9/site-packages (from werkzeug>=1.0.1->tensorboard~=2.19.0->tensorflow) (3.0.2)\n",
      "Requirement already satisfied: markdown-it-py>=2.2.0 in ./.venv/lib/python3.9/site-packages (from rich->keras>=3.5.0->tensorflow) (3.0.0)\n",
      "Requirement already satisfied: pygments<3.0.0,>=2.13.0 in ./.venv/lib/python3.9/site-packages (from rich->keras>=3.5.0->tensorflow) (2.19.1)\n",
      "Requirement already satisfied: zipp>=3.20 in ./.venv/lib/python3.9/site-packages (from importlib-metadata>=4.4->markdown>=2.6.8->tensorboard~=2.19.0->tensorflow) (3.21.0)\n",
      "Requirement already satisfied: mdurl~=0.1 in ./.venv/lib/python3.9/site-packages (from markdown-it-py>=2.2.0->rich->keras>=3.5.0->tensorflow) (0.1.2)\n",
      "Note: you may need to restart the kernel to use updated packages.\n"
     ]
    }
   ],
   "source": [
    "%pip install xarray tornado_helper git+https://github.com/mit-ll/tornet.git huggingface_hub tensorflow netcdf4"
   ]
  },
  {
   "cell_type": "code",
   "execution_count": 2,
   "metadata": {},
   "outputs": [],
   "source": [
    "# Set Root\n",
    "import os \n",
    "\n",
    "TORNET_ROOT = \"./data_tornet/\"\n",
    "os.environ['TORNET_ROOT'] = TORNET_ROOT"
   ]
  },
  {
   "cell_type": "code",
   "execution_count": null,
   "metadata": {},
   "outputs": [],
   "source": [
    "# Download Files \n",
    "# from tornado_helper import TorNet\n",
    "# tornet = TorNet(partial=True)\n",
    "# tornet.download()"
   ]
  },
  {
   "cell_type": "code",
   "execution_count": 3,
   "metadata": {},
   "outputs": [
    {
     "name": "stdout",
     "output_type": "stream",
     "text": [
      "\u001b[1m18/18\u001b[0m \u001b[32m━━━━━━━━━━━━━━━━━━━━\u001b[0m\u001b[37m\u001b[0m \u001b[1m23s\u001b[0m 1s/step - accuracy: 0.9564 - loss: 0.0090\n"
     ]
    },
    {
     "data": {
      "text/plain": [
       "[0.00901075266301632, 0.963350772857666]"
      ]
     },
     "execution_count": 3,
     "metadata": {},
     "output_type": "execute_result"
    }
   ],
   "source": [
    "import keras\n",
    "from tornet.data.loader import get_dataloader\n",
    "from huggingface_hub import hf_hub_download\n",
    "from tornet.models.keras.layers import CoordConv2D\n",
    "\n",
    "# Download the model\n",
    "model_path = hf_hub_download(\n",
    "    repo_id=\"tornet-ml/tornado_detector_baseline_v1\",\n",
    "    filename=\"tornado_detector_baseline.keras\"\n",
    ")\n",
    "\n",
    "# Load model\n",
    "model = keras.saving.load_model(\n",
    "    model_path,\n",
    "    custom_objects={'CoordConv2D': CoordConv2D},\n",
    "    compile=False\n",
    ")\n",
    "\n",
    "# Use their loader!\n",
    "ds = get_dataloader(\n",
    "    dataloader='keras',\n",
    "    data_root=TORNET_ROOT,\n",
    "    years=[2013],\n",
    "    data_type='test',           # or \"train\" depending on where your data is\n",
    "    batch_size=32,\n",
    "    select_keys=list(model.input.keys())  # ensures input keys match model\n",
    ")\n",
    "\n",
    "# Evaluate\n",
    "model.compile(metrics=['accuracy'])\n",
    "model.evaluate(ds)\n"
   ]
  }
 ],
 "metadata": {
  "kernelspec": {
   "display_name": "Python 3",
   "language": "python",
   "name": "python3"
  },
  "language_info": {
   "codemirror_mode": {
    "name": "ipython",
    "version": 3
   },
   "file_extension": ".py",
   "mimetype": "text/x-python",
   "name": "python",
   "nbconvert_exporter": "python",
   "pygments_lexer": "ipython3",
   "version": "3.9.6"
  },
  "orig_nbformat": 4
 },
 "nbformat": 4,
 "nbformat_minor": 2
}
